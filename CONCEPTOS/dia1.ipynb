{
 "cells": [
  {
   "cell_type": "code",
   "execution_count": 3,
   "metadata": {},
   "outputs": [],
   "source": [
    "saludo = \"hola mundo desde Paraguay\""
   ]
  },
  {
   "cell_type": "markdown",
   "metadata": {},
   "source": [
    "# Variables"
   ]
  },
  {
   "cell_type": "code",
   "execution_count": 4,
   "metadata": {},
   "outputs": [],
   "source": [
    "nombre_de_variable = \"algo interesante\""
   ]
  },
  {
   "cell_type": "markdown",
   "metadata": {},
   "source": [
    "# Tipos de datos"
   ]
  },
  {
   "cell_type": "code",
   "execution_count": null,
   "metadata": {},
   "outputs": [],
   "source": [
    "variable_texto = \"Enrique\"      # Tipo de dato = Texto -> String -> str\n",
    "variable_numero = 50            # Numero entero -> Integer -> int\n",
    "variable_flotante = 100.5       # Numero flotante -> float -> float\n",
    "variable_booleana = True        # Valor booleano -> boolean -> bool\n",
    "variable_booleana = False"
   ]
  },
  {
   "cell_type": "code",
   "execution_count": null,
   "metadata": {},
   "outputs": [],
   "source": [
    "# Booleanos buenas practicas\n",
    "es_mayor = True\n",
    "tiene_dinero = False"
   ]
  },
  {
   "cell_type": "markdown",
   "metadata": {},
   "source": [
    "# Operadores aritmeticos"
   ]
  },
  {
   "cell_type": "code",
   "execution_count": 6,
   "metadata": {},
   "outputs": [
    {
     "name": "stdout",
     "output_type": "stream",
     "text": [
      "207000\n"
     ]
    }
   ],
   "source": [
    "# Lista de compra para la cena\n",
    "precio_pizza = 120000\n",
    "precio_gaseosa = 10000\n",
    "precio_papas = 12000\n",
    "precio_helado = 65000 \n",
    "\n",
    "# Calculamos el total\n",
    "precio_total = precio_pizza + precio_gaseosa + precio_papas + precio_helado\n",
    "print(precio_total)"
   ]
  },
  {
   "cell_type": "code",
   "execution_count": 7,
   "metadata": {},
   "outputs": [
    {
     "name": "stdout",
     "output_type": "stream",
     "text": [
      "33.333333333333336\n"
     ]
    }
   ],
   "source": [
    "cantidad_paginas = 1000\n",
    "dias_mes = 30\n",
    "cantidad_paginas_por_dia = cantidad_paginas / dias_mes\n",
    "print(cantidad_paginas_por_dia)"
   ]
  },
  {
   "cell_type": "code",
   "execution_count": 10,
   "metadata": {},
   "outputs": [
    {
     "name": "stdout",
     "output_type": "stream",
     "text": [
      "590000\n",
      "84285.71428571429\n"
     ]
    }
   ],
   "source": [
    "# Solucion de Albert\n",
    "\n",
    "# Lista de compra para el asado\n",
    "tapa = 100000\n",
    "costilla = 180000\n",
    "cerveza = 200000\n",
    "morcilla = 60000\n",
    "mandioca = 50000\n",
    "# Vaquita para la farra\n",
    "precio_total = tapa + costilla + cerveza + morcilla + mandioca\n",
    "print(precio_total)\n",
    "\n",
    "cantidad_invitados = 7\n",
    "\n",
    "vaquita_de_los_perros = precio_total / cantidad_invitados\n",
    "print(vaquita_de_los_perros)"
   ]
  },
  {
   "cell_type": "code",
   "execution_count": 11,
   "metadata": {},
   "outputs": [
    {
     "name": "stdout",
     "output_type": "stream",
     "text": [
      "total cena\n",
      "130703\n",
      "Gasto por persona: 32675.75\n"
     ]
    }
   ],
   "source": [
    "# Solucion de Rodrigo\n",
    "\n",
    "# Cantidad de personas en la cena\n",
    "\n",
    "personas = 4 \n",
    "\n",
    "# Lista de compras\n",
    "\n",
    "tomate = 4000\n",
    "salsa = 1000\n",
    "prepizza = 10300\n",
    "queso = 19403\n",
    "atun = 10000\n",
    "fernet = 64000\n",
    "coca_cola =16000\n",
    "hielo = 6000\n",
    "\n",
    "total_cena = tomate + salsa + prepizza + queso + atun + fernet + coca_cola + hielo\n",
    "print(\"total cena\") #Ejemplo largo haciendo muchos prints\n",
    "print(total_cena)\n",
    "\n",
    "total_cena_por_persona = total_cena / personas\n",
    "print(\"Gasto por persona:\", total_cena_por_persona) #Ejemplo corto, todos los prints entran con comas \",\""
   ]
  },
  {
   "cell_type": "code",
   "execution_count": 15,
   "metadata": {},
   "outputs": [
    {
     "name": "stdout",
     "output_type": "stream",
     "text": [
      "Total de la cena 130703\n",
      "Cada persona debe pagar: 32675.75\n"
     ]
    }
   ],
   "source": [
    "print(f\"Total de la cena {total_cena}\")\n",
    "print(f\"Cada persona debe pagar: {total_cena_por_persona}\")"
   ]
  },
  {
   "cell_type": "code",
   "execution_count": 18,
   "metadata": {},
   "outputs": [
    {
     "name": "stdout",
     "output_type": "stream",
     "text": [
      "El total de la cena es 115703\n",
      "El total de la cena validado es de: 115703.0\n"
     ]
    }
   ],
   "source": [
    "# Resta\n",
    "descuento_pedidos_ya = 5000\n",
    "total_cena = total_cena - descuento_pedidos_ya\n",
    "\n",
    "# Multiplicacion\n",
    "total_cena_validacion = descuento_pedidos_ya + (total_cena / personas) * personas\n",
    "\n",
    "print(f\"El total de la cena es {total_cena}\")\n",
    "print(f\"El total de la cena validado es de: {total_cena_validacion}\")"
   ]
  },
  {
   "cell_type": "code",
   "execution_count": 22,
   "metadata": {},
   "outputs": [
    {
     "name": "stdout",
     "output_type": "stream",
     "text": [
      "Hola, Enrique Zarate.\n"
     ]
    }
   ],
   "source": [
    "nombre = \"Enrique\"\n",
    "apellido = \"Zarate\"\n",
    "\n",
    "print(f\"Hola, {nombre} {apellido}.\")"
   ]
  },
  {
   "cell_type": "markdown",
   "metadata": {},
   "source": [
    "# Obtener datos externos"
   ]
  },
  {
   "cell_type": "markdown",
   "metadata": {},
   "source": [
    "### input()"
   ]
  },
  {
   "cell_type": "code",
   "execution_count": 27,
   "metadata": {},
   "outputs": [
    {
     "name": "stdout",
     "output_type": "stream",
     "text": [
      "Jackson\n"
     ]
    }
   ],
   "source": [
    "nombre = input(\"Hola, ingrese su nombre\")\n",
    "\n",
    "print(nombre)\n"
   ]
  },
  {
   "cell_type": "code",
   "execution_count": 29,
   "metadata": {},
   "outputs": [
    {
     "name": "stdout",
     "output_type": "stream",
     "text": [
      "Los integrantes son: Esteban , Fabio , Nicole , Nicolas y Enrique.\n"
     ]
    }
   ],
   "source": [
    "# Resolucion Fabio\n",
    "\n",
    "\n",
    "nombre_uno = input(\"Estudiante uno se llama: \")\n",
    "nombre_dos = input(\"Estudiante dos se llama: \")\n",
    "nombre_tres = input(\"Estudiante tres se llama: \")\n",
    "nombre_cuatro = input(\"Estudiante cuatro se llama: \")\n",
    "nombre_cinco = input(\"Estudiante cinco se llama: \")\n",
    "\n",
    "print(f\"Los integrantes son: {nombre_uno} , {nombre_dos} , {nombre_tres} , {nombre_cuatro} y {nombre_cinco}.\")"
   ]
  },
  {
   "cell_type": "code",
   "execution_count": 30,
   "metadata": {},
   "outputs": [
    {
     "name": "stdout",
     "output_type": "stream",
     "text": [
      "El integrante N° 1 de mi mesa es Hugo Boss\n",
      "El integrante N° 2 de mi mesa es Alfredo\n",
      "El integrante N° 3 de mi mesa es Eduardo\n",
      "El integrante N° 4 de mi mesa es Nico\n",
      "El integrante N° 5 de mi mesa es Martin Lutero\n",
      "El integrante N° 6 de mi mesa es Queen Elizabeth\n"
     ]
    }
   ],
   "source": [
    "# Solucion Hugo Boss\n",
    "\n",
    "#Integrantes de la mesa:\n",
    "integrante_1 = input(\"Hola, ingrese el nombre del integrante N° 1\")\n",
    "integrante_2 = input(\"Hola, ingrese el nombre del integrante N° 2\")\n",
    "integrante_3 = input(\"Hola, ingrese el nombre del integrante N° 3\")\n",
    "integrante_4 = input(\"Hola, ingrese el nombre del integrante N° 4\")\n",
    "integrante_5 = input(\"Hola, ingrese el nombre del integrante N° 5\")\n",
    "integrante_6 = input(\"Hola, ingrese el nombre del integrante N° 6\")\n",
    "\n",
    "print(f\"El integrante N° 1 de mi mesa es {integrante_1}\")\n",
    "print(f\"El integrante N° 2 de mi mesa es {integrante_2}\")\n",
    "print(f\"El integrante N° 3 de mi mesa es {integrante_3}\")\n",
    "print(f\"El integrante N° 4 de mi mesa es {integrante_4}\")\n",
    "print(f\"El integrante N° 5 de mi mesa es {integrante_5}\")\n",
    "print(f\"El integrante N° 6 de mi mesa es {integrante_6}\")"
   ]
  },
  {
   "cell_type": "markdown",
   "metadata": {},
   "source": [
    "# Conversion de datos"
   ]
  },
  {
   "cell_type": "code",
   "execution_count": 32,
   "metadata": {},
   "outputs": [
    {
     "name": "stdout",
     "output_type": "stream",
     "text": [
      "Hola, soy Enrique y en agosto del anho pasado gaste 100000\n"
     ]
    },
    {
     "ename": "TypeError",
     "evalue": "unsupported operand type(s) for -: 'str' and 'str'",
     "output_type": "error",
     "traceback": [
      "\u001b[0;31m---------------------------------------------------------------------------\u001b[0m",
      "\u001b[0;31mTypeError\u001b[0m                                 Traceback (most recent call last)",
      "\u001b[1;32m/mnt/c/Users/enriq/OneDrive/Desktop/BOOTCAMP_12/CONCEPTOS/dia.ipynb Cell 21\u001b[0m in \u001b[0;36m<module>\u001b[0;34m\u001b[0m\n\u001b[1;32m      <a href='vscode-notebook-cell://wsl%2Bubuntu/mnt/c/Users/enriq/OneDrive/Desktop/BOOTCAMP_12/CONCEPTOS/dia.ipynb#X26sdnNjb2RlLXJlbW90ZQ%3D%3D?line=2'>3</a>\u001b[0m \u001b[39mprint\u001b[39m(\u001b[39mf\u001b[39m\u001b[39m\"\u001b[39m\u001b[39mHola, soy \u001b[39m\u001b[39m{\u001b[39;00mnombre\u001b[39m}\u001b[39;00m\u001b[39m y en agosto del anho pasado gaste \u001b[39m\u001b[39m{\u001b[39;00mgastos_agosto_2021\u001b[39m}\u001b[39;00m\u001b[39m\"\u001b[39m)\n\u001b[1;32m      <a href='vscode-notebook-cell://wsl%2Bubuntu/mnt/c/Users/enriq/OneDrive/Desktop/BOOTCAMP_12/CONCEPTOS/dia.ipynb#X26sdnNjb2RlLXJlbW90ZQ%3D%3D?line=4'>5</a>\u001b[0m gastos_agosto_2022 \u001b[39m=\u001b[39m \u001b[39minput\u001b[39m(\u001b[39m\"\u001b[39m\u001b[39mCuanto gastaste en agosto de este anho\u001b[39m\u001b[39m\"\u001b[39m)\n\u001b[0;32m----> <a href='vscode-notebook-cell://wsl%2Bubuntu/mnt/c/Users/enriq/OneDrive/Desktop/BOOTCAMP_12/CONCEPTOS/dia.ipynb#X26sdnNjb2RlLXJlbW90ZQ%3D%3D?line=6'>7</a>\u001b[0m resultado \u001b[39m=\u001b[39m gastos_agosto_2021 \u001b[39m-\u001b[39;49m gastos_agosto_2022\n\u001b[1;32m      <a href='vscode-notebook-cell://wsl%2Bubuntu/mnt/c/Users/enriq/OneDrive/Desktop/BOOTCAMP_12/CONCEPTOS/dia.ipynb#X26sdnNjb2RlLXJlbW90ZQ%3D%3D?line=7'>8</a>\u001b[0m \u001b[39mprint\u001b[39m(resultado)\n",
      "\u001b[0;31mTypeError\u001b[0m: unsupported operand type(s) for -: 'str' and 'str'"
     ]
    }
   ],
   "source": [
    "nombre = input(\"Decime tu nombre\")\n",
    "gastos_agosto_2021 = input(\"Cuanto gastaste en agosto del anho pasado\")\n",
    "print(f\"Hola, soy {nombre} y en agosto del anho pasado gaste {gastos_agosto_2021}\")\n",
    "\n",
    "gastos_agosto_2022 = input(\"Cuanto gastaste en agosto de este anho\")\n",
    "\n",
    "resultado = gastos_agosto_2021 - gastos_agosto_2022\n",
    "print(resultado)"
   ]
  },
  {
   "cell_type": "markdown",
   "metadata": {},
   "source": [
    "# type()"
   ]
  },
  {
   "cell_type": "code",
   "execution_count": 36,
   "metadata": {},
   "outputs": [
    {
     "name": "stdout",
     "output_type": "stream",
     "text": [
      "True\n",
      "<class 'bool'>\n"
     ]
    }
   ],
   "source": [
    "valor = True\n",
    "print(valor)\n",
    "print(type(valor))"
   ]
  },
  {
   "cell_type": "code",
   "execution_count": 38,
   "metadata": {},
   "outputs": [
    {
     "name": "stdout",
     "output_type": "stream",
     "text": [
      "<class 'str'>\n"
     ]
    }
   ],
   "source": [
    "presuesto = input(\"Decime el presupuesto\")\n",
    "print(type(presuesto))"
   ]
  },
  {
   "cell_type": "code",
   "execution_count": 39,
   "metadata": {},
   "outputs": [
    {
     "name": "stdout",
     "output_type": "stream",
     "text": [
      "120000\n",
      "<class 'int'>\n"
     ]
    }
   ],
   "source": [
    "presupuesto = input(\"Decime el presupuesto\")\n",
    "# transformar a numero\n",
    "presupuesto = int(presupuesto)\n",
    "print(presupuesto)\n",
    "print(type(presupuesto))"
   ]
  },
  {
   "cell_type": "code",
   "execution_count": 41,
   "metadata": {},
   "outputs": [
    {
     "name": "stdout",
     "output_type": "stream",
     "text": [
      "10000\n",
      "13000\n",
      "<class 'int'>\n",
      "El tipo de dato de precio_libro1_a_numero es <class 'int'>\n",
      "El monto total es: 23000\n",
      "La cantidad de personas es: 3\n",
      "El monto total a pagar entre 3 personas es: 7666.666666666667\n"
     ]
    }
   ],
   "source": [
    "# Solucion Mauri\n",
    "\n",
    "# Cantidad de libros \n",
    "\n",
    "precio_libro1 = input(\"Ingrese el precio del libro1\")\n",
    "precio_libro2 = input(\"Ingrese el precio del libro2\")\n",
    "precio_libro1_a_numero = int (precio_libro1)\n",
    "precio_libro2_a_numero = int (precio_libro2)\n",
    "print(precio_libro1_a_numero)\n",
    "print(precio_libro2_a_numero)\n",
    "print(type(precio_libro2_a_numero))\n",
    "print(f\"El tipo de dato de precio_libro1_a_numero es {type(precio_libro1_a_numero)}\")\n",
    "\n",
    "\n",
    "monto_total = precio_libro1_a_numero + precio_libro2_a_numero\n",
    "print(f\"El monto total es: {monto_total}\")\n",
    "\n",
    "\n",
    "cantidad_personas = int(input(\"Ingrese total de personas\"))\n",
    "print(f\"La cantidad de personas es: {cantidad_personas}\")\n",
    "\n",
    "\n",
    "vaquita = monto_total / cantidad_personas\n",
    "print (f\"El monto total a pagar entre {cantidad_personas} personas es: {vaquita}\")"
   ]
  },
  {
   "cell_type": "code",
   "execution_count": 42,
   "metadata": {},
   "outputs": [
    {
     "name": "stdout",
     "output_type": "stream",
     "text": [
      "lapiz faber castell = 1200\n",
      "hoja A4 blanca = 2000\n",
      "Total en Gs: 3200.\n",
      "---GRACIAS POR SU PREFERENCIA---\n"
     ]
    }
   ],
   "source": [
    "# Solucion Fabio\n",
    "\n",
    "lapiz = int(input(\"Decime el precio del lapiz\"))\n",
    "papel = int(input(\"Decime el precio del papel\"))\n",
    "\n",
    "print(f\"lapiz faber castell = {lapiz}\")\n",
    "print(f\"hoja A4 blanca = {papel}\")\n",
    "\n",
    "total_compras = lapiz + papel\n",
    "print(f\"Total en Gs: {total_compras}.\")\n",
    "print(\"---GRACIAS POR SU PREFERENCIA---\")"
   ]
  },
  {
   "cell_type": "code",
   "execution_count": 49,
   "metadata": {},
   "outputs": [
    {
     "data": {
      "text/plain": [
       "37"
      ]
     },
     "execution_count": 49,
     "metadata": {},
     "output_type": "execute_result"
    }
   ],
   "source": [
    "cantidad_particpantes_bootcamp = int(input(\"Ingrese la cantidad de partipantes\"))\n",
    "cantidad_particpantes_bootcamp\n"
   ]
  },
  {
   "cell_type": "code",
   "execution_count": 51,
   "metadata": {},
   "outputs": [
    {
     "name": "stdout",
     "output_type": "stream",
     "text": [
      "3333.3333333333335\n",
      "3333\n"
     ]
    }
   ],
   "source": [
    "# redondeo\n",
    "\n",
    "precio = 10000\n",
    "cantidad_de_personas = 3\n",
    "precio_por_persona = precio / cantidad_de_personas\n",
    "precio_por_persona_redondeado = round(precio_por_persona)\n",
    "print(precio_por_persona)\n",
    "print(precio_por_persona_redondeado)"
   ]
  },
  {
   "cell_type": "markdown",
   "metadata": {},
   "source": [
    "# Funciones\n",
    "\n",
    "## DRY"
   ]
  },
  {
   "cell_type": "code",
   "execution_count": 53,
   "metadata": {},
   "outputs": [],
   "source": [
    "# Anatomia\n",
    "\n",
    "def solicitar_datos():\n",
    "    # va a solicitar los datos de dos integrantes\n",
    "    nombre_miembro_1 = input(\"Integrante 1\")\n",
    "    nombre_miembro_2 = input(\"Integrante 2\")\n",
    "\n",
    "\n",
    "# llamada a la funcion\n",
    "solicitar_datos()"
   ]
  },
  {
   "cell_type": "code",
   "execution_count": 60,
   "metadata": {},
   "outputs": [],
   "source": [
    "# Funcion que compre libros\n",
    "\n",
    "def comprar_libros():\n",
    "    el_principito = 20000\n",
    "    don_quijote = 75000\n",
    "    moby_dick = 90000\n",
    "    total = el_principito + don_quijote + moby_dick\n",
    "    print(total)\n",
    "\n"
   ]
  },
  {
   "cell_type": "code",
   "execution_count": 63,
   "metadata": {},
   "outputs": [
    {
     "name": "stdout",
     "output_type": "stream",
     "text": [
      "185000\n",
      "185000\n",
      "185000\n"
     ]
    }
   ],
   "source": [
    "# corroborar\n",
    "comprar_libros()\n",
    "comprar_libros()\n",
    "comprar_libros()"
   ]
  },
  {
   "cell_type": "markdown",
   "metadata": {},
   "source": [
    "# Pasar datos a funciones"
   ]
  },
  {
   "cell_type": "code",
   "execution_count": 66,
   "metadata": {},
   "outputs": [],
   "source": [
    "def comprar_libros_remix(precio1, precio2):\n",
    "    total_a_pagar = precio1 + precio2\n",
    "    print(total_a_pagar)"
   ]
  },
  {
   "cell_type": "code",
   "execution_count": 67,
   "metadata": {},
   "outputs": [
    {
     "name": "stdout",
     "output_type": "stream",
     "text": [
      "80000\n"
     ]
    }
   ],
   "source": [
    "# cargando los datos\n",
    "precio_principito = 50000\n",
    "precio_don_quijote = 30000\n",
    "\n",
    "# corroborar\n",
    "comprar_libros_remix(precio1=precio_principito, precio2=precio_don_quijote)"
   ]
  },
  {
   "cell_type": "code",
   "execution_count": 68,
   "metadata": {},
   "outputs": [
    {
     "name": "stdout",
     "output_type": "stream",
     "text": [
      "80000\n",
      "250000\n",
      "390000\n"
     ]
    }
   ],
   "source": [
    "# COMPRA DEL MIERCOLES\n",
    "\n",
    "precio_don_quijote = 50000\n",
    "precio_principito = 30000\n",
    "comprar_libros_remix(precio_don_quijote, precio_principito)\n",
    "\n",
    "# COMPRAS DEL JUEVES\n",
    "cien_anhos = 120000\n",
    "dracula = 130000\n",
    "comprar_libros_remix(cien_anhos, dracula)\n",
    "\n",
    "# COMPRAS DEL VIERNES\n",
    "juegos_de_tronos = 300000\n",
    "crepusculo = 90000\n",
    "comprar_libros_remix(juegos_de_tronos, crepusculo)"
   ]
  },
  {
   "cell_type": "markdown",
   "metadata": {},
   "source": [
    "# Funciones con return\n",
    "\n",
    "Sirve para que la funcion, a parte de hacer un calculo, retorne ese calculo"
   ]
  },
  {
   "cell_type": "code",
   "execution_count": 69,
   "metadata": {},
   "outputs": [],
   "source": [
    "def calcular_total_compra(precio1, precio2):\n",
    "    # realiza una accion\n",
    "    total_compra = precio1 + precio2\n",
    "    return total_compra     # retorna/devuelve un dato\n",
    "\n"
   ]
  }
 ],
 "metadata": {
  "kernelspec": {
   "display_name": "Python 3.8.10 64-bit",
   "language": "python",
   "name": "python3"
  },
  "language_info": {
   "codemirror_mode": {
    "name": "ipython",
    "version": 3
   },
   "file_extension": ".py",
   "mimetype": "text/x-python",
   "name": "python",
   "nbconvert_exporter": "python",
   "pygments_lexer": "ipython3",
   "version": "3.8.10"
  },
  "orig_nbformat": 4,
  "vscode": {
   "interpreter": {
    "hash": "916dbcbb3f70747c44a77c7bcd40155683ae19c65e1c03b4aa3499c5328201f1"
   }
  }
 },
 "nbformat": 4,
 "nbformat_minor": 2
}
