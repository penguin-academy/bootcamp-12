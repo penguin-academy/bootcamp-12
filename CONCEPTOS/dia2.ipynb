{
 "cells": [
  {
   "cell_type": "markdown",
   "metadata": {},
   "source": [
    "# Solucion de challenge de Hugo 🕴"
   ]
  },
  {
   "cell_type": "code",
   "execution_count": 1,
   "metadata": {},
   "outputs": [
    {
     "name": "stdout",
     "output_type": "stream",
     "text": [
      "Título del libro: Harry Potter\n",
      "Autor del Libro:J. K. Rowling\n",
      "Precio del Libro:120000\n",
      "Precio Promocional con 20% de descuento:96000\n"
     ]
    }
   ],
   "source": [
    "def compra_libro():\n",
    "    titulo = input(\"Título del Libro:\")\n",
    "    autor = input(\"Autor del Libro:\")\n",
    "    precio =int(input(\"Precio del Libro:\")) \n",
    "    descuento =  (20*precio)/100\n",
    "    precio_descuento = precio - descuento\n",
    "    print(f\"Título del libro: {titulo}\")\n",
    "    print(f\"Autor del Libro:{autor}\")\n",
    "    print(f\"Precio del Libro:{precio}\")\n",
    "    print(f\"Precio Promocional con 20% de descuento:{int(precio_descuento)}\")\n",
    "compra_libro()"
   ]
  },
  {
   "cell_type": "markdown",
   "metadata": {},
   "source": [
    "# Funciones"
   ]
  },
  {
   "cell_type": "code",
   "execution_count": 2,
   "metadata": {},
   "outputs": [],
   "source": [
    "def mi_funcion():\n",
    "    nombre = \"Enrique\"\n",
    "    edad = 21\n",
    "    print(f\"Hola soy {nombre} y tengo {edad} anhos\")\n"
   ]
  },
  {
   "cell_type": "code",
   "execution_count": 3,
   "metadata": {},
   "outputs": [
    {
     "name": "stdout",
     "output_type": "stream",
     "text": [
      "Hola soy Enrique y tengo 21 anhos\n"
     ]
    }
   ],
   "source": [
    "mi_funcion()"
   ]
  },
  {
   "cell_type": "code",
   "execution_count": 15,
   "metadata": {},
   "outputs": [],
   "source": [
    "def imprimir_datos_libro(nombre, precio):       # creamos las variables de la funcion\n",
    "    print(f\"{nombre} es uno de los mejores libros\")\n",
    "    print(f\"{nombre} es un clasico de la literatura\")\n",
    "    print(f\"{nombre} cuesta tan solo {precio}\")"
   ]
  },
  {
   "cell_type": "code",
   "execution_count": 16,
   "metadata": {},
   "outputs": [
    {
     "name": "stdout",
     "output_type": "stream",
     "text": [
      "Harry Potter es uno de los mejores libros\n",
      "Harry Potter es un clasico de la literatura\n",
      "Harry Potter cuesta tan solo 120000\n",
      "Don Quijote es uno de los mejores libros\n",
      "Don Quijote es un clasico de la literatura\n",
      "Don Quijote cuesta tan solo 250000\n",
      "Dracula es uno de los mejores libros\n",
      "Dracula es un clasico de la literatura\n",
      "Dracula cuesta tan solo 190000\n"
     ]
    }
   ],
   "source": [
    "imprimir_datos_libro(\"Harry Potter\", 120000)\n",
    "imprimir_datos_libro(\"Don Quijote\", 250000)\n",
    "imprimir_datos_libro(\"Dracula\", 190000)"
   ]
  },
  {
   "cell_type": "markdown",
   "metadata": {},
   "source": [
    "# Mini challenge\n",
    "\n",
    "Crear una función de un proceso que se les ocurra que tenga varios pasos. Ejecutar la función 3 veces."
   ]
  },
  {
   "cell_type": "markdown",
   "metadata": {},
   "source": [
    "# Solucion Sebas ✏"
   ]
  },
  {
   "cell_type": "code",
   "execution_count": 17,
   "metadata": {},
   "outputs": [
    {
     "name": "stdout",
     "output_type": "stream",
     "text": [
      "El promedio es: 4.25\n",
      "El promedio es: 5.0\n",
      "El promedio es: 2.5\n"
     ]
    }
   ],
   "source": [
    "def promedio(nota1, nota2, nota3, nota4, cantidad_materias):\n",
    "    promedio = (nota1 + nota2 + nota3 + nota4)/cantidad_materias\n",
    "    print(f\"El promedio es: {promedio}\")\n",
    "\n",
    "promedio(5,3,4,5,4)\n",
    "promedio(5,5,5,5,4)\n",
    "promedio(3,2,4,1,4)"
   ]
  },
  {
   "cell_type": "markdown",
   "metadata": {},
   "source": [
    "# Solucio de Esteban 🙈"
   ]
  },
  {
   "cell_type": "code",
   "execution_count": 18,
   "metadata": {},
   "outputs": [
    {
     "name": "stdout",
     "output_type": "stream",
     "text": [
      "El producto ingresado es llavero\n",
      "El llavero cuesta 20000\n",
      "El producto ingresado es tarjetero\n",
      "El tarjetero cuesta 50000\n",
      "El producto ingresado es Carterita\n",
      "El Carterita cuesta 100000\n",
      "El producto ingresado es billetera\n",
      "El billetera cuesta 60000\n"
     ]
    }
   ],
   "source": [
    "# Administrador de productos para feriar\n",
    "\n",
    "def clasificacion_productos (producto, precio):\n",
    "    print(f\"El producto ingresado es {producto}\")\n",
    "    print(f\"El {producto} cuesta {precio}\")\n",
    "\n",
    "clasificacion_productos(\"llavero\", 20000)\n",
    "clasificacion_productos(\"tarjetero\", 50000)\n",
    "clasificacion_productos(\"Carterita\", 100000)\n",
    "clasificacion_productos(\"billetera\", 60000)"
   ]
  },
  {
   "cell_type": "markdown",
   "metadata": {},
   "source": [
    "# Condicionales"
   ]
  },
  {
   "cell_type": "markdown",
   "metadata": {},
   "source": [
    "Es como manipulamos el orden de ejecucion de Python"
   ]
  },
  {
   "cell_type": "code",
   "execution_count": 19,
   "metadata": {},
   "outputs": [
    {
     "name": "stdout",
     "output_type": "stream",
     "text": [
      "Paso 1\n",
      "Paso 2\n",
      "Paso 3\n"
     ]
    }
   ],
   "source": [
    "print(\"Paso 1\")\n",
    "print(\"Paso 2\")\n",
    "print(\"Paso 3\")"
   ]
  },
  {
   "cell_type": "code",
   "execution_count": 30,
   "metadata": {},
   "outputs": [
    {
     "name": "stdout",
     "output_type": "stream",
     "text": [
      "No tenes la plata suficiente\n",
      "Podes comprar diario Extra\n"
     ]
    }
   ],
   "source": [
    "plata = 2500\n",
    "\n",
    "if plata >= 10000:   # doble es igual para comparacion\n",
    "    print(\"Podes comprar El Principito\")\n",
    "else:\n",
    "    print(\"No tenes la plata suficiente\")\n",
    "    print(\"Podes comprar diario Extra\")\n",
    "\n"
   ]
  },
  {
   "cell_type": "markdown",
   "metadata": {},
   "source": [
    "## Con varias condiciones"
   ]
  },
  {
   "cell_type": "code",
   "execution_count": 36,
   "metadata": {},
   "outputs": [
    {
     "name": "stdout",
     "output_type": "stream",
     "text": [
      "No podes comprar el libro :(\n",
      "Gracias por venir\n"
     ]
    }
   ],
   "source": [
    "plata = int(input(\"Cuanto dinero tenes\"))\n",
    "edad = 24\n",
    "libro = \"50 Sombras de Gray\"\n",
    "\n",
    "if edad < 18:       # Si - Pregunta principal\n",
    "    print(\"Sos menor, no podes comprar el libro\")\n",
    "elif edad >= 18 and plata >= 100000:        # En caso de -> Pregunta secundaria \n",
    "    print(\"Tenes la edad para comprar y la plata\")\n",
    "else:\n",
    "    print(\"No podes comprar el libro :(\")\n",
    "\n",
    "print(\"Gracias por venir\")"
   ]
  },
  {
   "cell_type": "markdown",
   "metadata": {},
   "source": [
    "### Challenge 🤺 - 20m\n",
    "\n",
    "Escribir un programa en el que se pregunte al usuario por una temperatura (en grados Celsius), imprima la temperatura escrita, y luego clasificar la temperatura ingresada en los siguientes niveles:\n",
    "\n",
    "Entre -10 y 18 grados, que imprima \"Fresquete\".\n",
    "Entre 19 y 30 grados, que imprima \"Calor'i\".\n",
    "Entre 31 y 45 grados, que imprima \"Hakuuuuuu\".\n",
    "Para todo lo demás, imprimir \"Ñamano mba'e!\"."
   ]
  },
  {
   "cell_type": "markdown",
   "metadata": {},
   "source": [
    "# Solucion de Tony 🙌"
   ]
  },
  {
   "cell_type": "code",
   "execution_count": 41,
   "metadata": {},
   "outputs": [
    {
     "name": "stdout",
     "output_type": "stream",
     "text": [
      "La temperatura actual es -40\n",
      "Nhamano mba'e\n"
     ]
    }
   ],
   "source": [
    "temperatura = int(input(\"Introducir temperatura\"))\n",
    "print(f\"La temperatura actual es {temperatura}\")\n",
    "if -10 <= temperatura <= 18:\n",
    "    print(\"Fresquete\")\n",
    "elif 19 <= temperatura <= 30:\n",
    "    print(\"Calor'i\")\n",
    "elif 31 <= temperatura <= 45:\n",
    "    print(\"Hakuuuuuu\")\n",
    "else:\n",
    "    print(\"Nhamano mba'e\")"
   ]
  },
  {
   "cell_type": "markdown",
   "metadata": {},
   "source": [
    "# Solucion David 🎓"
   ]
  },
  {
   "cell_type": "code",
   "execution_count": 46,
   "metadata": {},
   "outputs": [
    {
     "name": "stdout",
     "output_type": "stream",
     "text": [
      "Ñamano mba'e\n"
     ]
    }
   ],
   "source": [
    "temperatura = int(input(\"¿Cuántos grados hace? \"))\n",
    "\n",
    "if temperatura >= -10 and temperatura <= 18:\n",
    "    print(\"Fresquete\")\n",
    "elif temperatura >= 19 and temperatura <= 30:\n",
    "    print(\"Calor'i\")\n",
    "elif temperatura >= 31 and temperatura <= 45:\n",
    "    print(\"Hakuuuuuu\")\n",
    "else:\n",
    "    print(\"Ñamano mba'e\")"
   ]
  },
  {
   "cell_type": "markdown",
   "metadata": {},
   "source": [
    "# Programa Cool "
   ]
  },
  {
   "cell_type": "code",
   "execution_count": 48,
   "metadata": {},
   "outputs": [
    {
     "name": "stdout",
     "output_type": "stream",
     "text": [
      "90 °F equivale a 32.22222222222222 °C\n",
      "90 °C equivale a 194.0 °F\n"
     ]
    }
   ],
   "source": [
    "temperatura = int(input(\"¿Cuántos grados hace? \"))\n",
    "\n",
    "def convertir(sistema, grados):\n",
    "    if sistema == \"fahrenheit\":\n",
    "        temp_convertida = (grados - 32) * 5/9\n",
    "        print(f\"{grados} °F equivale a {temp_convertida} °C\")\n",
    "    elif sistema == \"celsius\":\n",
    "        temp_convertida = (grados * 9/5) + 32 \n",
    "        print(f\"{grados} °C equivale a {temp_convertida} °F\")\n",
    "\n",
    "convertir(\"fahrenheit\", temperatura)\n",
    "convertir(\"celsius\", temperatura)"
   ]
  },
  {
   "cell_type": "markdown",
   "metadata": {},
   "source": [
    "# Bucle condicional"
   ]
  },
  {
   "cell_type": "markdown",
   "metadata": {},
   "source": [
    "```while```\n",
    "Nos permite ejecutar una serie de instrucciones mientras una condicion se cumpla.\n",
    "\n",
    "Cuando la condicion se deje cumplir, el bucle se detiene"
   ]
  },
  {
   "cell_type": "code",
   "execution_count": null,
   "metadata": {},
   "outputs": [],
   "source": [
    "\n",
    "while condicion_verdadera:\n",
    "    instrucciones"
   ]
  },
  {
   "cell_type": "code",
   "execution_count": 51,
   "metadata": {},
   "outputs": [
    {
     "name": "stdout",
     "output_type": "stream",
     "text": [
      "Hago lo que quiero\n"
     ]
    }
   ],
   "source": [
    "tengo_dinero = True\n",
    "\n",
    "while tengo_dinero == True:\n",
    "    print(\"Hago lo que quiero\")\n",
    "    tengo_dinero = False    "
   ]
  },
  {
   "cell_type": "code",
   "execution_count": 57,
   "metadata": {},
   "outputs": [
    {
     "name": "stdout",
     "output_type": "stream",
     "text": [
      "Fallaste\n",
      "Intenta de nuevo \n",
      "Fallaste\n",
      "Intenta de nuevo \n",
      "SALI DEL BUCLE!!!!\n"
     ]
    }
   ],
   "source": [
    "adivina = input(\"Ingrese un numero al azar\") # 40\n",
    "\n",
    "while adivina != \"50\": # True o False \n",
    "    print(\"Fallaste\")\n",
    "    print(\"Intenta de nuevo \")\n",
    "    adivina = input(\"Ingrese un numero diferente\")\n",
    "\n",
    "print(\"SALI DEL BUCLE!!!!\")"
   ]
  },
  {
   "cell_type": "code",
   "execution_count": 56,
   "metadata": {},
   "outputs": [
    {
     "name": "stdout",
     "output_type": "stream",
     "text": [
      "False\n"
     ]
    }
   ],
   "source": [
    "print(\"50\" != \"50\")"
   ]
  },
  {
   "cell_type": "code",
   "execution_count": 58,
   "metadata": {},
   "outputs": [
    {
     "name": "stdout",
     "output_type": "stream",
     "text": [
      "El contador vale 1\n",
      "El contador vale 2\n",
      "El contador vale 3\n",
      "El contador vale 4\n",
      "El contador vale 5\n",
      "CHAU\n",
      "Afu del bucle\n"
     ]
    }
   ],
   "source": [
    "contador = 0\n",
    "\n",
    "while True:\n",
    "    contador = contador + 1     # Aumenta en uno\n",
    "    print(f\"El contador vale {contador}\")\n",
    "    if contador == 5:   # cuando el contador valga 5\n",
    "        print(\"CHAU\")\n",
    "        break       # Salgo de bucle\n",
    "\n",
    "print(\"Afu del bucle\")"
   ]
  },
  {
   "cell_type": "markdown",
   "metadata": {},
   "source": [
    "### Challenge 🤺 - 15m\n",
    "Escribir un programa que almacene una contraseña_secreta en una variable, y pregunte al usuario por la contraseña_secreta hasta que introduzca la contraseña correcta.\n",
    "\n",
    "Cuando el usuario ingrese la contrasena correcta, imprimir un mensaje de Bienvenida."
   ]
  },
  {
   "cell_type": "markdown",
   "metadata": {},
   "source": [
    "# Solucion Sebas 👀"
   ]
  },
  {
   "cell_type": "code",
   "execution_count": 59,
   "metadata": {},
   "outputs": [
    {
     "name": "stdout",
     "output_type": "stream",
     "text": [
      "contraseña incorrecta\n",
      "contraseña incorrecta\n",
      "contraseña incorrecta\n",
      "contraseña incorrecta\n",
      "bienvenido\n"
     ]
    }
   ],
   "source": [
    "# almacenar la contraseña\n",
    "contraseña_correcta = 1234\n",
    "# pedir al usuario la contraseña correcta\n",
    "contraseña_ingresada = int(input(\"ingrese su contraseña correcta\"))\n",
    "# cuando introduce la contraseña correcta imprimir bienvenido\n",
    "while True:\n",
    "    # validar si la contraseña que introdujo el usuario es correcta o no\n",
    "    if contraseña_ingresada == contraseña_correcta:\n",
    "        print(\"bienvenido\")\n",
    "        break \n",
    "    else:\n",
    "        print(\"contraseña incorrecta\")\n",
    "        contraseña_ingresada = int(input(\"ingrese su contraseña correcta\"))"
   ]
  },
  {
   "cell_type": "markdown",
   "metadata": {},
   "source": [
    "# Solucion Abner 🤷‍♂️"
   ]
  },
  {
   "cell_type": "code",
   "execution_count": 60,
   "metadata": {},
   "outputs": [
    {
     "name": "stdout",
     "output_type": "stream",
     "text": [
      "ingrese la clave correcta\n",
      "ingrese la clave correcta\n",
      "ingrese la clave correcta\n",
      "bienvenido\n"
     ]
    }
   ],
   "source": [
    "contrasenha_secreta = 1234\n",
    "\n",
    "while True:\n",
    "    contrasenha_usuario = int(input(\"ingrese contrasenha numerica\"))\n",
    "    if contrasenha_usuario == contrasenha_secreta:\n",
    "        print(\"bienvenido\")\n",
    "        break\n",
    "    else:\n",
    "        print(\"ingrese la clave correcta\")"
   ]
  },
  {
   "cell_type": "markdown",
   "metadata": {},
   "source": [
    "# Solucion Alfredo 👻"
   ]
  },
  {
   "cell_type": "code",
   "execution_count": 63,
   "metadata": {},
   "outputs": [
    {
     "name": "stdout",
     "output_type": "stream",
     "text": [
      "Contraseña incorrecta, intente de nuevo\n",
      "Contraseña incorrecta, intente de nuevo\n",
      "Contraseña incorrecta, intente de nuevo\n",
      "Contraseña incorrecta, intente de nuevo\n",
      "muchos intentos, vuelva a intentarlo mas tarde\n"
     ]
    }
   ],
   "source": [
    "password = 69420    #alfanumerico \n",
    "xerror = 0\n",
    "while True:\n",
    "    contraseña = input(\"ingrese su contraseña\")\n",
    "    xerror = xerror + 1\n",
    "    if int(contraseña) == password:    #alfanumerico pq primero designo una variable y luego de introducirla tomo su valor numerico, pq si lo hago antes, solo deja ingresar datos numericos\n",
    "        print (\"bienvenido Sr. Stark\")\n",
    "        break\n",
    "    elif xerror == 5:\n",
    "        print(\"muchos intentos, vuelva a intentarlo mas tarde\")\n",
    "        break\n",
    "    else:\n",
    "        print(\"Contraseña incorrecta, intente de nuevo\")"
   ]
  },
  {
   "cell_type": "markdown",
   "metadata": {},
   "source": [
    "# Listas"
   ]
  },
  {
   "cell_type": "markdown",
   "metadata": {},
   "source": [
    "Es una agrupacion de objetos, que pueden ser de distintos tipos de datos.\n",
    "\n",
    "Se construye colocando los elemtos entre corchetes []  y separandolos con comas"
   ]
  },
  {
   "cell_type": "code",
   "execution_count": 65,
   "metadata": {},
   "outputs": [],
   "source": [
    "# Lista de texto\n",
    "lista_frutas = [\"Banana\", \"Pera\", \"Manzana\"]\n",
    "distancia = 23.2\n",
    "\n",
    "# Con diferentes tipos de datos\n",
    "mi_lista = [True, 23, 11.2, \"Enrique\"]\n"
   ]
  },
  {
   "cell_type": "code",
   "execution_count": 66,
   "metadata": {},
   "outputs": [
    {
     "name": "stdout",
     "output_type": "stream",
     "text": [
      "[True, 23, 11.2, 'Enrique']\n"
     ]
    }
   ],
   "source": [
    "print(mi_lista)"
   ]
  },
  {
   "cell_type": "code",
   "execution_count": 75,
   "metadata": {},
   "outputs": [
    {
     "name": "stdout",
     "output_type": "stream",
     "text": [
      "['Pan', 'Leche', 'Coca']\n",
      "Coca\n",
      "Leche\n"
     ]
    }
   ],
   "source": [
    "lista_de_productos = [\"Pan\", \"Leche\", \"Coca\"]\n",
    "\n",
    "\n",
    "# Acceder a elementos de una lista\n",
    "print(lista_de_productos)\n",
    "bebida = lista_de_productos[2] \n",
    "print(bebida)\n",
    "elemento2 = lista_de_productos[1]\n",
    "print(elemento2)"
   ]
  },
  {
   "cell_type": "code",
   "execution_count": 72,
   "metadata": {},
   "outputs": [],
   "source": [
    "# Agregar objetos \n",
    "# append()\n",
    "lista_de_productos.append(\"Queso\")"
   ]
  },
  {
   "cell_type": "code",
   "execution_count": 76,
   "metadata": {},
   "outputs": [
    {
     "name": "stdout",
     "output_type": "stream",
     "text": [
      "['Pan', 'Leche', 'Coca', 'Huevo', 'Birra']\n"
     ]
    }
   ],
   "source": [
    "lista_de_productos.append(\"Huevo\")\n",
    "lista_de_productos.append(\"Birra\")\n",
    "print(lista_de_productos)"
   ]
  },
  {
   "cell_type": "code",
   "execution_count": 77,
   "metadata": {},
   "outputs": [
    {
     "name": "stdout",
     "output_type": "stream",
     "text": [
      "['Pan', 'Coca', 'Huevo', 'Birra']\n"
     ]
    }
   ],
   "source": [
    "# Eliminar un elemento de la lista a traves del indice\n",
    "lista_de_productos.pop(1)\n",
    "print(lista_de_productos)"
   ]
  },
  {
   "cell_type": "code",
   "execution_count": 85,
   "metadata": {},
   "outputs": [
    {
     "name": "stdout",
     "output_type": "stream",
     "text": [
      "3\n",
      "6\n",
      "['Pan', 'Leche', 'Coca', 'Azucar', 'Flores', 'Muchos colores']\n",
      "['Pan', 'Leche', 'Coca', 'Azucar', 'Flores']\n",
      "['Pan', 'Leche', 'Fanta', 'Azucar', 'Flores']\n"
     ]
    }
   ],
   "source": [
    "lista_de_productos = [\"Pan\", \"Leche\", \"Coca\"]\n",
    "\n",
    "# Funcion para ver la cantidad de elemtos\n",
    "# len()\n",
    "\n",
    "print(len(lista_de_productos))\n",
    "\n",
    "lista_de_productos.append(\"Azucar\")\n",
    "lista_de_productos.append(\"Flores\")\n",
    "lista_de_productos.append(\"Muchos colores\")\n",
    "\n",
    "print(len(lista_de_productos))\n",
    "\n",
    "print(lista_de_productos)\n",
    "\n",
    "# Elimnar con el elemento en si\n",
    "lista_de_productos.remove(\"Muchos colores\")\n",
    "print(lista_de_productos)\n",
    "\n",
    "# Modificacion\n",
    "lista_de_productos[2] = \"Fanta\"\n",
    "print(lista_de_productos)"
   ]
  },
  {
   "cell_type": "code",
   "execution_count": 88,
   "metadata": {},
   "outputs": [
    {
     "name": "stdout",
     "output_type": "stream",
     "text": [
      "['Miguel', 'Joel']\n"
     ]
    }
   ],
   "source": [
    "# Creacion\n",
    "estudiantes = [\"Marcos\", \"Fernando\", \"Myke\"]\n",
    "\n",
    "# Anhadir estudiantes\n",
    "estudiantes.append(\"Joel\")\n",
    "\n",
    "# Eliminar por posicion\n",
    "estudiantes.pop(0)\n",
    "\n",
    "# Eliminar por elemento\n",
    "estudiantes.remove(\"Fernando\")\n",
    "\n",
    "# Reemplazar\n",
    "estudiantes[0] = \"Miguel\"\n",
    "\n",
    "print(estudiantes)"
   ]
  },
  {
   "cell_type": "markdown",
   "metadata": {},
   "source": [
    "### Challenge 🤺 - 20m\n",
    "\n",
    "Crear una lista de 5 elementos. Luego, seguir los siguientes pasos.\n",
    "\n",
    "- Agregar un elemento al final de la lista.\n",
    "\n",
    "- Modificar el segundo elemento.\n",
    "\n",
    "- Eliminar el tercer elemento."
   ]
  },
  {
   "cell_type": "markdown",
   "metadata": {},
   "source": [
    "# Solucion de Tiago PZK"
   ]
  },
  {
   "cell_type": "code",
   "execution_count": 90,
   "metadata": {},
   "outputs": [
    {
     "name": "stdout",
     "output_type": "stream",
     "text": [
      "['COCA COLA', 'RON', 'FERNET BRANCA', 'WHISKY', 'JAGGER']\n"
     ]
    }
   ],
   "source": [
    "# Lista de compras para la farra\n",
    "lista = [\"COCA COLA\", \"SPRITE\", \"FERNET BRANCA\", \"WHISKY\", \"VODKA\"]\n",
    "\n",
    "#AGREGACION DEL ELEMENTO EXTRA \n",
    "lista.append(\"JAGGER\")\n",
    "\n",
    "#MODIFICAR EL SEGUNDO ELEMENTO\n",
    "lista[1] = \"RON\"\n",
    "\n",
    "#Eliminar el tercer elemento\n",
    "lista.remove(\"VODKA\")\n",
    "\n",
    "print(lista)\n"
   ]
  },
  {
   "cell_type": "markdown",
   "metadata": {},
   "source": [
    "# Bucles: For"
   ]
  },
  {
   "cell_type": "markdown",
   "metadata": {},
   "source": [
    "Para repetir una accion una cierta cantidad de veces, podemos usar un bucle iterativo\n",
    "\n",
    "Iteracion: una accion repetida cierta cantidad de veces, pero teniendo en cuenta el valor de la iteracion pasada\n",
    "\n",
    "Para que funcione, debemos generar un objeto iterable"
   ]
  },
  {
   "cell_type": "code",
   "execution_count": 97,
   "metadata": {},
   "outputs": [
    {
     "name": "stdout",
     "output_type": "stream",
     "text": [
      "range(0, 4)\n",
      "Mentor nro 0 va a :\n",
      "Bailar\n",
      "Aplaudir\n",
      "Perrear\n",
      "Mentor nro 1 va a :\n",
      "Bailar\n",
      "Aplaudir\n",
      "Perrear\n",
      "Mentor nro 2 va a :\n",
      "Bailar\n",
      "Aplaudir\n",
      "Perrear\n",
      "Mentor nro 3 va a :\n",
      "Bailar\n",
      "Aplaudir\n",
      "Perrear\n",
      "Hola desde fuera del bucle\n"
     ]
    }
   ],
   "source": [
    "print(range(4))     # -> [0, 1, 2, 3]\n",
    "\n",
    "for gorrito in range(4):\n",
    "    print(f\"Mentor nro {gorrito} va a :\")\n",
    "    print(\"Bailar\")\n",
    "    print(\"Aplaudir\")\n",
    "    print(\"Perrear\")\n",
    "\n",
    "print(\"Hola desde fuera del bucle\")"
   ]
  },
  {
   "cell_type": "code",
   "execution_count": 99,
   "metadata": {},
   "outputs": [
    {
     "name": "stdout",
     "output_type": "stream",
     "text": [
      "El Principito\n",
      "Dracula\n",
      "Harry Potter\n",
      "Juego de Tronos\n"
     ]
    }
   ],
   "source": [
    "mi_lista_de_libros = [\"El Principito\", \"Dracula\", \"Harry Potter\", \"Juego de Tronos\"]\n",
    "\n",
    "for libro in mi_lista_de_libros:\n",
    "    print(libro)\n",
    "    # mucho co"
   ]
  },
  {
   "cell_type": "markdown",
   "metadata": {},
   "source": [
    "### Challenge 🤺 - 20m\n",
    "\n",
    "Recorrer los elementos de una lista de objetos e imprimir cada objeto *__solamente__* si tiene 6 letras o más.\n",
    "\n",
    "- lista -> [0, 1, 2, 3]\n",
    "- recorrer -> for\n",
    "- solamente si -> if\n",
    "- cantidad de letras -> len()"
   ]
  },
  {
   "cell_type": "code",
   "execution_count": 106,
   "metadata": {},
   "outputs": [
    {
     "name": "stdout",
     "output_type": "stream",
     "text": [
      "El Principito\n",
      "Dracula\n",
      "Harry Potter\n",
      "Juego de Tronos\n"
     ]
    },
    {
     "data": {
      "text/plain": [
       "6"
      ]
     },
     "execution_count": 106,
     "metadata": {},
     "output_type": "execute_result"
    }
   ],
   "source": [
    "mi_lista_de_libros = [\"El Principito\", \"Dracula\", \"Harry Potter\", \"Juego de Tronos\"]\n",
    "\n",
    "for libro in mi_lista_de_libros:\n",
    "    print(libro)\n",
    "    # mucho co\n",
    "\n",
    "\n",
    "producto = \"pomelo\"\n",
    "len(producto)"
   ]
  },
  {
   "cell_type": "markdown",
   "metadata": {},
   "source": [
    "# Solucion de Edu 💡"
   ]
  },
  {
   "cell_type": "code",
   "execution_count": 109,
   "metadata": {},
   "outputs": [
    {
     "name": "stdout",
     "output_type": "stream",
     "text": [
      "Caballo\n",
      "Pajaro\n",
      "Tiburon\n",
      "Jirafa\n"
     ]
    }
   ],
   "source": [
    "lista_de_animales= [\"Vaca\", \"Caballo\", \"Perro\", \"Pajaro\",\"Tiburon\",\"Jirafa\"]\n",
    "\n",
    "for animal in lista_de_animales:\n",
    "    if len(animal) >= 6:\n",
    "        print(animal)"
   ]
  },
  {
   "cell_type": "markdown",
   "metadata": {},
   "source": [
    "3 Solucion Camilin 🧀"
   ]
  },
  {
   "cell_type": "code",
   "execution_count": 110,
   "metadata": {},
   "outputs": [
    {
     "name": "stdout",
     "output_type": "stream",
     "text": [
      "\n",
      "➢ 'objetos' su cantidad de letras es: 7\n",
      "\n",
      "➢ 'programar' su cantidad de letras es: 9\n",
      "\n",
      "➢ 'canada' su cantidad de letras es: 6\n",
      "\n",
      "➢ 'pantalla' su cantidad de letras es: 8\n"
     ]
    }
   ],
   "source": [
    "elementos = [\"uno\",\"seis\",\"siete\",\"objetos\",\"programar\",\"oso\",\"canada\",\"doce\",\"pantalla\",\"seba\"]\n",
    "\n",
    "for elemento in range(len(elementos)):  # elemento toma [0, 1, 2, ...]\n",
    "    if len(elementos[elemento]) >= 6:   # elementos[0]\n",
    "        print(f\"\\n➢ '{elementos[elemento]}' su cantidad de letras es: {len(elementos[elemento])}\")"
   ]
  },
  {
   "cell_type": "code",
   "execution_count": 118,
   "metadata": {},
   "outputs": [
    {
     "name": "stdout",
     "output_type": "stream",
     "text": [
      "range(0, 10)\n",
      "objetos\n"
     ]
    }
   ],
   "source": [
    "print(range(len(elementos)))\n",
    "\n",
    "elemento = 3\n",
    "print(elementos[elemento])"
   ]
  },
  {
   "cell_type": "markdown",
   "metadata": {},
   "source": [
    "# iterar palabras"
   ]
  },
  {
   "cell_type": "code",
   "execution_count": 119,
   "metadata": {},
   "outputs": [
    {
     "name": "stdout",
     "output_type": "stream",
     "text": [
      "H\n",
      "o\n",
      "l\n",
      "a\n",
      " \n",
      "P\n",
      "e\n",
      "n\n",
      "g\n",
      "u\n",
      "i\n",
      "n\n"
     ]
    }
   ],
   "source": [
    "palabra = \"Hola Penguin\"\n",
    "\n",
    "for letra in palabra:\n",
    "    print(letra)"
   ]
  },
  {
   "cell_type": "markdown",
   "metadata": {},
   "source": [
    "\"Hola\" -> [\"H\", \"o\", \"l\", \"a\"]"
   ]
  },
  {
   "cell_type": "markdown",
   "metadata": {},
   "source": [
    "### Challenge 🤺 Tarea\n",
    "\n",
    "Solicitar al usuario que ingrese una frase.\n",
    "\n",
    "Imprimir un mensaje cada vez que se encuentre una letra \"o\"."
   ]
  }
 ],
 "metadata": {
  "kernelspec": {
   "display_name": "Python 3.8.10 64-bit",
   "language": "python",
   "name": "python3"
  },
  "language_info": {
   "codemirror_mode": {
    "name": "ipython",
    "version": 3
   },
   "file_extension": ".py",
   "mimetype": "text/x-python",
   "name": "python",
   "nbconvert_exporter": "python",
   "pygments_lexer": "ipython3",
   "version": "3.8.10"
  },
  "orig_nbformat": 4,
  "vscode": {
   "interpreter": {
    "hash": "31f2aee4e71d21fbe5cf8b01ff0e069b9275f58929596ceb00d14d90e3e16cd6"
   }
  }
 },
 "nbformat": 4,
 "nbformat_minor": 2
}
