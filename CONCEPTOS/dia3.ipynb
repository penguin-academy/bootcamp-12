{
 "cells": [
  {
   "cell_type": "markdown",
   "metadata": {},
   "source": [
    "### Challenge 🤺 Tarea\n",
    "\n",
    "Solicitar al usuario que ingrese una frase.\n",
    "\n",
    "Imprimir un mensaje cada vez que se encuentre una letra \"o\"."
   ]
  },
  {
   "cell_type": "code",
   "execution_count": 1,
   "metadata": {},
   "outputs": [],
   "source": [
    "# Solicitar la frase al usuario -> input()\n",
    "codigo\n",
    "\n",
    "# recorrer la frase\n",
    "mas codigo\n",
    "\n",
    "# condicional: si una de las letras letras de la frase es igual a \"o\"\n",
    "## imprimimos \"Existe la letra 'o'\" \n",
    "mas y mas codigo\n",
    "\n"
   ]
  },
  {
   "cell_type": "markdown",
   "metadata": {},
   "source": [
    "# Solucion Niko 🆕"
   ]
  },
  {
   "cell_type": "code",
   "execution_count": 7,
   "metadata": {},
   "outputs": [
    {
     "name": "stdout",
     "output_type": "stream",
     "text": [
      "Existe la letra 'o' \n"
     ]
    }
   ],
   "source": [
    "# Solicitar la frase al usuario -> input()\n",
    "palabra = input(\"Escriba una palabra\")  # -> \"Hola\"\n",
    "\n",
    "# Recorrer la frase\n",
    "for letra in palabra:  # -> 1er vez = \"H\", 2da vez = \"o\", ... \n",
    "\n",
    "    #condicional: si una de las letras de la frase es igual a 'o' \n",
    "    if letra == \"o\":\n",
    "        ## imrpimimos \"Existe la letra 'o' \"\n",
    "        print(\"Existe la letra 'o' \")"
   ]
  },
  {
   "cell_type": "code",
   "execution_count": 8,
   "metadata": {},
   "outputs": [],
   "source": [
    "def buscador_de_letra():\n",
    "    # Solicitar la frase al usuario -> input()\n",
    "    palabra = input(\"Escriba una palabra\")  # -> \"Hola\"\n",
    "\n",
    "    # Recorrer la frase\n",
    "    for letra in palabra:  # -> 1er vez = \"H\", 2da vez = \"o\", ... \n",
    "\n",
    "        #condicional: si una de las letras de la frase es igual a 'o' \n",
    "        if letra == \"o\":\n",
    "            ## imrpimimos \"Existe la letra 'o' \"\n",
    "            print(\"Existe la letra 'o' \")"
   ]
  },
  {
   "cell_type": "code",
   "execution_count": 10,
   "metadata": {},
   "outputs": [
    {
     "name": "stdout",
     "output_type": "stream",
     "text": [
      "Existe la letra 'o' \n",
      "Existe la letra 'o' \n"
     ]
    }
   ],
   "source": [
    "buscador_de_letra()\n",
    "buscador_de_letra()"
   ]
  },
  {
   "cell_type": "code",
   "execution_count": 20,
   "metadata": {},
   "outputs": [],
   "source": [
    "# Una funcion que me busque en una palabra, la letra que yo decida\n",
    "\n",
    "def buscar_cualquier_letra(letra, palabra):\n",
    "    # recorrer la palabra\n",
    "    for l in palabra:\n",
    "        # Preguntar si es igual a letra\n",
    "        if letra == l:\n",
    "            # imprimir \"Existe la letra\"\n",
    "            return \"Hola soy el Kevin\""
   ]
  },
  {
   "cell_type": "code",
   "execution_count": 21,
   "metadata": {},
   "outputs": [
    {
     "name": "stdout",
     "output_type": "stream",
     "text": [
      "Hola soy el Kevin\n",
      "Hola soy el Kevin\n"
     ]
    },
    {
     "data": {
      "text/plain": [
       "'Hola'"
      ]
     },
     "execution_count": 21,
     "metadata": {},
     "output_type": "execute_result"
    }
   ],
   "source": [
    "# Buscar la letra 'o' en 'Hola'\n",
    "print(buscar_cualquier_letra(\"o\", \"Hola\"))\n",
    "\n",
    "print(buscar_cualquier_letra(\"p\", \"Choripan\"))\n",
    "\n",
    "saludo = \"Hola\"\n",
    "saludo"
   ]
  },
  {
   "cell_type": "markdown",
   "metadata": {},
   "source": [
    "### Presentación del proyecto - 15m\n",
    "Vamos al sitio web de wordle\n",
    "\n",
    "Requerimientos\n",
    "\n",
    "Necesitamos lo siguiente:\n",
    "\n",
    "    - Variables\n",
    "    - Tipos de datos\n",
    "    - Concatenación\n",
    "    - Operadores lógicos\n",
    "    - Condicionales (control de flujo)\n",
    "    - Funciones (propias & built-in)\n",
    "    - Bucles"
   ]
  },
  {
   "cell_type": "markdown",
   "metadata": {},
   "source": [
    "# Return explicacion ft. Kevin"
   ]
  },
  {
   "cell_type": "code",
   "execution_count": 32,
   "metadata": {},
   "outputs": [
    {
     "name": "stdout",
     "output_type": "stream",
     "text": [
      "Hola soy Enri\n",
      "Hola soy Enri\n",
      "Hola soy Enri\n",
      "None\n",
      "None\n",
      "None\n"
     ]
    }
   ],
   "source": [
    "def enri():\n",
    "    print(\"Hola soy Enri\")\n",
    "\n",
    "# Llamar a la funcion\n",
    "kevin = enri()\n",
    "anita = enri()\n",
    "marce = enri()\n",
    "\n",
    "print(kevin)\n",
    "print(anita)\n",
    "print(marce)"
   ]
  },
  {
   "cell_type": "code",
   "execution_count": 34,
   "metadata": {},
   "outputs": [
    {
     "name": "stdout",
     "output_type": "stream",
     "text": [
      "580000\n"
     ]
    }
   ],
   "source": [
    "def compra_libros(precio1, precio2):\n",
    "    total_compra = precio1 + precio2\n",
    "    return total_compra\n",
    "\n",
    "# COMPRA DEL MIERCOLES\n",
    "precio_don_quijote = 50000\n",
    "precio_principito = 30000\n",
    "miercoles = compra_libros(precio_don_quijote, precio_principito)\n",
    "\n",
    "# COMPRAS DEL JUEVES\n",
    "cien_anhos = 120000\n",
    "dracula = 130000\n",
    "jueves = compra_libros(cien_anhos, dracula)\n",
    "\n",
    "libro1 = 100000\n",
    "libro2 = 150000\n",
    "viernes = compra_libros(libro1, libro2)\n",
    "\n",
    "# Calcular total\n",
    "total = miercoles + jueves + viernes\n",
    "print(total)"
   ]
  },
  {
   "cell_type": "markdown",
   "metadata": {},
   "source": [
    "## Challenge 3 🤺 - 15m\n",
    "\n",
    "Crear una función que reciba dos parámetros (una palabra y un número), y que devuelva `True` si el número es igual a la cantidad de letras de la palabra. En caso contrario, que devuelva `False`.\n",
    "\n",
    "Pista: `cantidad de letras de una palabra en python`"
   ]
  },
  {
   "cell_type": "code",
   "execution_count": null,
   "metadata": {},
   "outputs": [],
   "source": [
    "# Crear una funcion: recibe una_palabra y un_numero\n",
    "\n",
    "    # Compacion: si la cant_letras es igual a un_numero\n",
    "\n",
    "        # retornar True"
   ]
  },
  {
   "cell_type": "markdown",
   "metadata": {},
   "source": [
    "# Solucion Martin ✏"
   ]
  },
  {
   "cell_type": "code",
   "execution_count": 36,
   "metadata": {},
   "outputs": [
    {
     "name": "stdout",
     "output_type": "stream",
     "text": [
      "La cantidad de letras es igual al numero ingresado.\n"
     ]
    }
   ],
   "source": [
    "def funcion(palabra, numero):\n",
    "    if numero == len(palabra):\n",
    "        return True\n",
    "    else:\n",
    "        return False\n",
    "\n",
    "palabra = input(\"Ingrese una palabra\")\n",
    "cantidad_letras = int(input(\"Ingrese un numero\"))\n",
    "\n",
    "resultado = funcion(palabra, cantidad_letras) # True o False\n",
    "\n",
    "if resultado:\n",
    "    print(\"La cantidad de letras es igual al numero ingresado.\")\n",
    "else:\n",
    "    print(\"La cantidad de letras no es igual al numero ingresado.\")"
   ]
  },
  {
   "cell_type": "markdown",
   "metadata": {},
   "source": [
    "# Jugando con el return"
   ]
  },
  {
   "cell_type": "code",
   "execution_count": 41,
   "metadata": {},
   "outputs": [
    {
     "data": {
      "text/plain": [
       "'Hola Juancito!'"
      ]
     },
     "execution_count": 41,
     "metadata": {},
     "output_type": "execute_result"
    }
   ],
   "source": [
    "def saludar(n):\n",
    "    return \"Hola \" + n + \"!\"\n",
    "\n",
    "\n",
    "saludar(\"Juancito\")"
   ]
  },
  {
   "cell_type": "markdown",
   "metadata": {},
   "source": [
    "## Challenge 4 🤺 - 20 min\n",
    "Crear función que revise si una palabra contiene una letra. En caso de que la contenga, retornar la letra entre corchetes `[]`. De lo contrario, retornar solo la letra."
   ]
  },
  {
   "cell_type": "code",
   "execution_count": null,
   "metadata": {},
   "outputs": [],
   "source": [
    "# Creamos funcion: recibe(letra, palabra)\n",
    "\n",
    "    # verificar si la letra existe en la palabra\n",
    "    # bucle for: recorrer las letras de la palabra\n",
    "\n",
    "        # condicional if: si l es igual a letra\n",
    "\n",
    "            # retorna \"[letra]\"\n",
    "\n",
    "        # condicional else: si l no es igual a letra\n",
    "\n",
    "            # retorna \"letra\""
   ]
  },
  {
   "cell_type": "code",
   "execution_count": 43,
   "metadata": {},
   "outputs": [],
   "source": [
    "letra = \"i\"\n",
    "palabra = \"Hola\"\n",
    "for l in palabra:\n",
    "    if l == letra:\n",
    "        print(\"Existe\")"
   ]
  },
  {
   "cell_type": "code",
   "execution_count": 55,
   "metadata": {},
   "outputs": [],
   "source": [
    "def verificar_letra(letra, palabra):\n",
    "    existe_letra = letra in palabra # True o False\n",
    "    if existe_letra == True:\n",
    "        return \"[\" + letra + \"]\"\n",
    "    else:\n",
    "        return letra"
   ]
  },
  {
   "cell_type": "code",
   "execution_count": 56,
   "metadata": {},
   "outputs": [
    {
     "data": {
      "text/plain": [
       "'x'"
      ]
     },
     "execution_count": 56,
     "metadata": {},
     "output_type": "execute_result"
    }
   ],
   "source": [
    "verificar_letra(\"x\", \"hola\")"
   ]
  },
  {
   "cell_type": "markdown",
   "metadata": {},
   "source": [
    "# palabra clave: in"
   ]
  },
  {
   "cell_type": "code",
   "execution_count": 51,
   "metadata": {},
   "outputs": [
    {
     "name": "stdout",
     "output_type": "stream",
     "text": [
      "True\n"
     ]
    }
   ],
   "source": [
    "lista_productos = [\"leche\", \"pan\"]\n",
    "\n",
    "existe_pan = \"leche\" in lista_productos\n",
    "\n",
    "print(existe_pan)"
   ]
  },
  {
   "cell_type": "markdown",
   "metadata": {},
   "source": [
    "### return\n",
    "\n",
    "* return cambia el flujo del programa y realiza cambios en el código\n",
    "* lo que return devuelve/retorna/entrega puede ser utilizado en otra sección del código\n",
    "* lo que return devuelve/retorna/entrega puede ser almacenado en variables\n",
    "* return POR SÍ SOLO no muestra valores en pantalla\n",
    "\n",
    "### print()\n",
    "\n",
    "* print() no cambia el flujo del programa ni realiza cambios en el código\n",
    "* print() solo muestra valores en la pantalla\n",
    "* print() no devuelve un valor reutilizable"
   ]
  },
  {
   "cell_type": "markdown",
   "metadata": {},
   "source": [
    "# Funcion list()\n",
    "\n",
    "retorna un objeto cualquiera a una lista"
   ]
  },
  {
   "cell_type": "code",
   "execution_count": 62,
   "metadata": {},
   "outputs": [
    {
     "name": "stdout",
     "output_type": "stream",
     "text": [
      "['J', 'u', 'a', 'n', ' ', 'P', 'e', 'r', 'e', 'z']\n",
      "['q', 'u', 'e', 's', 'o']\n",
      "['l', 'e', 'c', 'h', 'e']\n",
      "[['q', 'u', 'e', 's', 'o']]\n",
      "[['q', 'u', 'e', 's', 'o'], ['l', 'e', 'c', 'h', 'e']]\n"
     ]
    }
   ],
   "source": [
    "nombre_alumno = \"Juan Perez\"\n",
    "\n",
    "lista_alumnos = list(nombre_alumno)\n",
    "\n",
    "print(lista_alumnos)\n",
    "\n",
    "palabra_a_encontrar = \"queso\"\n",
    "lista_de_letras = list(palabra_a_encontrar)\n",
    "print(lista_de_letras)\n",
    "\n",
    "palabra_ingresada = \"leche\"\n",
    "lista_de_letras_palabra_ingresada = list(palabra_ingresada)\n",
    "print(lista_de_letras_palabra_ingresada)\n",
    "\n",
    "# append()\n",
    "lista_de_letras_productos = []\n",
    "\n",
    "lista_de_letras_productos.append(lista_de_letras)\n",
    "print(lista_de_letras_productos)\n",
    "lista_de_letras_productos.append(lista_de_letras_palabra_ingresada)\n",
    "print(lista_de_letras_productos)\n",
    "\n"
   ]
  },
  {
   "cell_type": "markdown",
   "metadata": {},
   "source": [
    "## Challenge 5 🤺 - 20m\n",
    "\n",
    "Pedir al usuario que ingrese 1 palabra, luego convertir esa palabra a una lista con sus caracteres con `list()`. Agregar esa lista de caracteres a una lista llamada `palabras_ingresadas`. Repetir el proceso 3 veces. Cada vez que se agregue una lista de caracteres, imprimir la lista `palabras_ingresadas`.\n",
    "\n",
    "\n",
    "Ejemplo del resultado esperado:\n",
    "\n",
    "```[['c', 'i', 'e', 'l', 'o']]``` # Al ingresar la primera palabra\n",
    "\n",
    "```[['c', 'i', 'e', 'l', 'o'], ['c', 'a', 'l', 'o', 'r']]``` # Al ingresar la segunda palabra\n",
    "\n",
    "```[['c', 'i', 'e', 'l', 'o'], ['c', 'a', 'l', 'o', 'r'], ['n', 'u', 'b', 'e', 's']]``` # Al ingresar la tercera palabra"
   ]
  },
  {
   "cell_type": "markdown",
   "metadata": {},
   "source": [
    "# Solucion Fabio 🦾"
   ]
  },
  {
   "cell_type": "code",
   "execution_count": 64,
   "metadata": {},
   "outputs": [
    {
     "name": "stdout",
     "output_type": "stream",
     "text": [
      "[['q', 'u', 'e', 's', 'o', 's']]\n",
      "[['q', 'u', 'e', 's', 'o', 's'], ['n', 'u', 'b', 'e', 's']]\n",
      "[['q', 'u', 'e', 's', 'o', 's'], ['n', 'u', 'b', 'e', 's'], ['v', 'i', 'r', 'u', 's']]\n"
     ]
    }
   ],
   "source": [
    "palabras_ingresadas = []\n",
    "\n",
    "for palabras_p in range(3):\n",
    "    solicitar_palabra = input(\"Ingrese palabra\")\n",
    "    lista_letras = list(solicitar_palabra)\n",
    "\n",
    "    palabras_ingresadas.append(lista_letras)\n",
    "\n",
    "    print(palabras_ingresadas)"
   ]
  },
  {
   "cell_type": "code",
   "execution_count": null,
   "metadata": {},
   "outputs": [],
   "source": [
    "# 1era iteracion\n",
    "solicitar_palabra = input(\"Ingrese palabra\")\n",
    "palabra = list(solicitar_palabra)\n",
    "\n",
    "lista_de_palabras.append(palabra)\n",
    "\n",
    "print(lista_de_palabras)\n",
    "\n",
    "# 2da iteracion\n",
    "solicitar_palabra = input(\"Ingrese palabra\")\n",
    "palabra = list(solicitar_palabra)\n",
    "\n",
    "lista_de_palabras.append(palabra)\n",
    "\n",
    "print(lista_de_palabras)\n",
    "\n",
    "#3ra iteracion\n",
    "solicitar_palabra = input(\"Ingrese palabra\")\n",
    "palabra = list(solicitar_palabra)\n",
    "\n",
    "lista_de_palabras.append(palabra)\n",
    "\n",
    "print(lista_de_palabras)"
   ]
  },
  {
   "cell_type": "markdown",
   "metadata": {},
   "source": [
    "# Funcion Verificadora"
   ]
  },
  {
   "cell_type": "markdown",
   "metadata": {},
   "source": [
    "Acercandonos un poco más a nuestro juego, vamos a ver cual es el proceso cada vez que se ingresa una palabra\n",
    "\n",
    "- Crear una lista vacía `letras_verificadas` para las letras de la palabra luego de ser verificada\n",
    "- Definir la cantidad de letras de la palabra a encontrar\n",
    "- Si las letras existen en la palabra a encontrar y sus posiciones coinciden: encerrar en corchetes `[]` y agregar al resultado\n",
    "- Si las letras existen en la palabra a encontrar pero sus posiciones no coinciden: encerrar en parentesis `()` y agregar al resultado\n",
    "- Si no se cumple ninguna de las anteriores, agregar la letra a la lista vacía sin modificaciones\n",
    "- Retornar el resultado"
   ]
  },
  {
   "cell_type": "code",
   "execution_count": 1,
   "metadata": {},
   "outputs": [],
   "source": [
    "def obtener_fila_verificada(palabra_ingresada, palabra_secreta):\n",
    "\n",
    "    # creamos la lista vacia\n",
    "    letras_verificadas = []\n",
    "\n",
    "    # verificar si las letras de palabra_ingresada existen en palabra_secreta\n",
    "    \n",
    "    cantidad_de_letras = len(palabra_secreta)\n",
    "\n",
    "    for pos in range(cantidad_de_letras):\n",
    "        # verificar si la letra existe en palabra_secreta\n",
    "        letra_existe_en_la_palabra = palabra_ingresada[pos] in palabra_secreta\n",
    "\n",
    "        # verificar si las posiciones de la letras\n",
    "        letras_poseen_misma_posicion = palabra_ingresada[pos] == palabra_secreta[pos]\n",
    "\n",
    "        # Si las letras existen en la palabra a encontrar y sus posiciones coinciden\n",
    "        if letra_existe_en_la_palabra and letras_poseen_misma_posicion:\n",
    "            letras_verificadas.append(\"[\" + palabra_ingresada[pos] + \"]\")\n",
    "        \n",
    "        # Si las letras existen en la palabra a encontrar pero sus posiciones no coinciden\n",
    "        elif letra_existe_en_la_palabra and not letras_poseen_misma_posicion:\n",
    "            letras_verificadas.append(\"(\" + palabra_ingresada[pos] + \")\")\n",
    "\n",
    "        # Si no se cumple ninguna de las anteriores, agregar la letra a la lista vacía sin modificaciones\n",
    "        else:\n",
    "            letras_verificadas.append(palabra_ingresada[pos])\n",
    "    \n",
    "    # devolvemos el resultado\n",
    "    return letras_verificadas \n"
   ]
  },
  {
   "cell_type": "markdown",
   "metadata": {},
   "source": [
    "## Probamos nuestra función (y rezamos para que funcione)"
   ]
  },
  {
   "cell_type": "code",
   "execution_count": 2,
   "metadata": {},
   "outputs": [
    {
     "name": "stdout",
     "output_type": "stream",
     "text": [
      "['q', '[u]', '(e)', '(s)', 'o']\n"
     ]
    }
   ],
   "source": [
    "linea_verificada = obtener_fila_verificada(\"queso\", \"nubes\")\n",
    "\n",
    "print(linea_verificada)"
   ]
  },
  {
   "cell_type": "markdown",
   "metadata": {},
   "source": [
    "## Challenge 6 🤺 - 15m\n",
    "\n",
    "Dada la lista de ejemplo: \n",
    "\n",
    "lista = [['h', 'o', 'l', 'i', 's'], ['h', 'e', 'l', 'l', 'o'], ['h', 'a', 'l', 'l', 'o']]\n",
    "\n",
    "Crear una función que imprima una grilla (lista de listas), una línea por cada lista dentro de la lista principal.\n",
    "\n",
    "Ejemplo del resultado esperado:\n",
    "\n",
    "```\n",
    "['h', 'o', 'l', 'i', 's']\n",
    "['h', 'e', 'l', 'l', 'o']\n",
    "['h', 'a', 'l', 'l', 'o']\n",
    "```"
   ]
  },
  {
   "cell_type": "markdown",
   "metadata": {},
   "source": [
    "# Solucion Eysem"
   ]
  },
  {
   "cell_type": "code",
   "execution_count": 4,
   "metadata": {},
   "outputs": [
    {
     "name": "stdout",
     "output_type": "stream",
     "text": [
      "['h', 'o', 'l', 'i', 's']\n",
      "['h', 'e', 'l', 'l', 'o']\n",
      "['h', 'a', 'l', 'l', 'o']\n"
     ]
    }
   ],
   "source": [
    "lista_palabras = [['h', 'o', 'l', 'i', 's'], ['h', 'e', 'l', 'l', 'o'], ['h', 'a', 'l', 'l', 'o']]\n",
    "\n",
    "def imprimir_grilla(lista_palabras):\n",
    "    for lista_letras in lista_palabras:\n",
    "        print(lista_letras)\n",
    "\n",
    "imprimir_grilla(lista_palabras)"
   ]
  },
  {
   "cell_type": "markdown",
   "metadata": {},
   "source": [
    "# Bucle While: repaso"
   ]
  },
  {
   "cell_type": "code",
   "execution_count": 5,
   "metadata": {},
   "outputs": [
    {
     "name": "stdout",
     "output_type": "stream",
     "text": [
      "Te quedan 5 intentos\n",
      "Te quedan 4 intentos\n",
      "Te quedan 3 intentos\n",
      "Te quedan 2 intentos\n",
      "Te quedan 1 intentos\n",
      "Te quedan 0 intentos\n"
     ]
    }
   ],
   "source": [
    "intentos = 6\n",
    "\n",
    "while intentos > 0:\n",
    "    intentos = intentos - 1\n",
    "    print(f\"Te quedan {intentos} intentos\")\n"
   ]
  },
  {
   "cell_type": "markdown",
   "metadata": {},
   "source": [
    "# ¿Y si unimos todo? 💥💥💥💥💥💥💥 - 1h"
   ]
  }
 ],
 "metadata": {
  "kernelspec": {
   "display_name": "Python 3.8.10 64-bit",
   "language": "python",
   "name": "python3"
  },
  "language_info": {
   "codemirror_mode": {
    "name": "ipython",
    "version": 3
   },
   "file_extension": ".py",
   "mimetype": "text/x-python",
   "name": "python",
   "nbconvert_exporter": "python",
   "pygments_lexer": "ipython3",
   "version": "3.8.10"
  },
  "orig_nbformat": 4,
  "vscode": {
   "interpreter": {
    "hash": "31f2aee4e71d21fbe5cf8b01ff0e069b9275f58929596ceb00d14d90e3e16cd6"
   }
  }
 },
 "nbformat": 4,
 "nbformat_minor": 2
}
